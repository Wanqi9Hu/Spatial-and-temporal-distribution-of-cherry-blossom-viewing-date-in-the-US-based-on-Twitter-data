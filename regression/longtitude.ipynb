{
 "cells": [
  {
   "cell_type": "code",
   "execution_count": 1,
   "id": "c645a1b2",
   "metadata": {},
   "outputs": [],
   "source": [
    "import pandas as pd\n",
    "import numpy as np\n",
    "import re\n",
    "import plotly.graph_objects as go\n",
    "import plotly.express as px"
   ]
  },
  {
   "cell_type": "code",
   "execution_count": 2,
   "id": "dac89969",
   "metadata": {},
   "outputs": [
    {
     "data": {
      "text/html": [
       "<div>\n",
       "<style scoped>\n",
       "    .dataframe tbody tr th:only-of-type {\n",
       "        vertical-align: middle;\n",
       "    }\n",
       "\n",
       "    .dataframe tbody tr th {\n",
       "        vertical-align: top;\n",
       "    }\n",
       "\n",
       "    .dataframe thead th {\n",
       "        text-align: right;\n",
       "    }\n",
       "</style>\n",
       "<table border=\"1\" class=\"dataframe\">\n",
       "  <thead>\n",
       "    <tr style=\"text-align: right;\">\n",
       "      <th></th>\n",
       "      <th>state</th>\n",
       "      <th>year</th>\n",
       "      <th>month</th>\n",
       "      <th>actual</th>\n",
       "      <th>Viewing Date</th>\n",
       "      <th>Elevation</th>\n",
       "    </tr>\n",
       "  </thead>\n",
       "  <tbody>\n",
       "    <tr>\n",
       "      <th>0</th>\n",
       "      <td>AK</td>\n",
       "      <td>2012</td>\n",
       "      <td>2012/3/23</td>\n",
       "      <td>3/23</td>\n",
       "      <td>83</td>\n",
       "      <td>580</td>\n",
       "    </tr>\n",
       "    <tr>\n",
       "      <th>1</th>\n",
       "      <td>AK</td>\n",
       "      <td>2013</td>\n",
       "      <td>2013/4/11</td>\n",
       "      <td>4/11</td>\n",
       "      <td>101</td>\n",
       "      <td>580</td>\n",
       "    </tr>\n",
       "    <tr>\n",
       "      <th>2</th>\n",
       "      <td>AK</td>\n",
       "      <td>2017</td>\n",
       "      <td>2017/3/22</td>\n",
       "      <td>3/22</td>\n",
       "      <td>81</td>\n",
       "      <td>580</td>\n",
       "    </tr>\n",
       "    <tr>\n",
       "      <th>3</th>\n",
       "      <td>AK</td>\n",
       "      <td>2018</td>\n",
       "      <td>2018/3/11</td>\n",
       "      <td>3/11</td>\n",
       "      <td>70</td>\n",
       "      <td>580</td>\n",
       "    </tr>\n",
       "    <tr>\n",
       "      <th>4</th>\n",
       "      <td>AK</td>\n",
       "      <td>2019</td>\n",
       "      <td>2019/3/16</td>\n",
       "      <td>3/16</td>\n",
       "      <td>75</td>\n",
       "      <td>580</td>\n",
       "    </tr>\n",
       "    <tr>\n",
       "      <th>...</th>\n",
       "      <td>...</td>\n",
       "      <td>...</td>\n",
       "      <td>...</td>\n",
       "      <td>...</td>\n",
       "      <td>...</td>\n",
       "      <td>...</td>\n",
       "    </tr>\n",
       "    <tr>\n",
       "      <th>503</th>\n",
       "      <td>WY</td>\n",
       "      <td>2013</td>\n",
       "      <td>2013/4/15</td>\n",
       "      <td>4/15</td>\n",
       "      <td>105</td>\n",
       "      <td>2044</td>\n",
       "    </tr>\n",
       "    <tr>\n",
       "      <th>504</th>\n",
       "      <td>WY</td>\n",
       "      <td>2015</td>\n",
       "      <td>2015/4/09</td>\n",
       "      <td>4/09</td>\n",
       "      <td>99</td>\n",
       "      <td>2044</td>\n",
       "    </tr>\n",
       "    <tr>\n",
       "      <th>505</th>\n",
       "      <td>WY</td>\n",
       "      <td>2016</td>\n",
       "      <td>2016/3/28</td>\n",
       "      <td>3/28</td>\n",
       "      <td>88</td>\n",
       "      <td>2044</td>\n",
       "    </tr>\n",
       "    <tr>\n",
       "      <th>506</th>\n",
       "      <td>WY</td>\n",
       "      <td>2018</td>\n",
       "      <td>2018/4/02</td>\n",
       "      <td>4/02</td>\n",
       "      <td>92</td>\n",
       "      <td>2044</td>\n",
       "    </tr>\n",
       "    <tr>\n",
       "      <th>507</th>\n",
       "      <td>WY</td>\n",
       "      <td>2020</td>\n",
       "      <td>2020/3/27</td>\n",
       "      <td>3/27</td>\n",
       "      <td>87</td>\n",
       "      <td>2044</td>\n",
       "    </tr>\n",
       "  </tbody>\n",
       "</table>\n",
       "<p>508 rows × 6 columns</p>\n",
       "</div>"
      ],
      "text/plain": [
       "    state  year      month actual  Viewing Date  Elevation\n",
       "0      AK  2012  2012/3/23   3/23            83        580\n",
       "1      AK  2013  2013/4/11   4/11           101        580\n",
       "2      AK  2017  2017/3/22   3/22            81        580\n",
       "3      AK  2018  2018/3/11   3/11            70        580\n",
       "4      AK  2019  2019/3/16   3/16            75        580\n",
       "..    ...   ...        ...    ...           ...        ...\n",
       "503    WY  2013  2013/4/15   4/15           105       2044\n",
       "504    WY  2015  2015/4/09   4/09            99       2044\n",
       "505    WY  2016  2016/3/28   3/28            88       2044\n",
       "506    WY  2018  2018/4/02   4/02            92       2044\n",
       "507    WY  2020  2020/3/27   3/27            87       2044\n",
       "\n",
       "[508 rows x 6 columns]"
      ]
     },
     "execution_count": 2,
     "metadata": {},
     "output_type": "execute_result"
    }
   ],
   "source": [
    "df = pd.read_excel('map55.xlsx')\n",
    "df"
   ]
  },
  {
   "cell_type": "code",
   "execution_count": 3,
   "id": "6b31f951",
   "metadata": {},
   "outputs": [
    {
     "data": {
      "text/html": [
       "<div>\n",
       "<style scoped>\n",
       "    .dataframe tbody tr th:only-of-type {\n",
       "        vertical-align: middle;\n",
       "    }\n",
       "\n",
       "    .dataframe tbody tr th {\n",
       "        vertical-align: top;\n",
       "    }\n",
       "\n",
       "    .dataframe thead th {\n",
       "        text-align: right;\n",
       "    }\n",
       "</style>\n",
       "<table border=\"1\" class=\"dataframe\">\n",
       "  <thead>\n",
       "    <tr style=\"text-align: right;\">\n",
       "      <th></th>\n",
       "      <th>state_id</th>\n",
       "      <th>lat</th>\n",
       "    </tr>\n",
       "  </thead>\n",
       "  <tbody>\n",
       "    <tr>\n",
       "      <th>0</th>\n",
       "      <td>NY</td>\n",
       "      <td>40.6943</td>\n",
       "    </tr>\n",
       "    <tr>\n",
       "      <th>1</th>\n",
       "      <td>CA</td>\n",
       "      <td>34.1139</td>\n",
       "    </tr>\n",
       "    <tr>\n",
       "      <th>2</th>\n",
       "      <td>IL</td>\n",
       "      <td>41.8373</td>\n",
       "    </tr>\n",
       "    <tr>\n",
       "      <th>3</th>\n",
       "      <td>FL</td>\n",
       "      <td>25.7839</td>\n",
       "    </tr>\n",
       "    <tr>\n",
       "      <th>4</th>\n",
       "      <td>TX</td>\n",
       "      <td>32.7936</td>\n",
       "    </tr>\n",
       "    <tr>\n",
       "      <th>...</th>\n",
       "      <td>...</td>\n",
       "      <td>...</td>\n",
       "    </tr>\n",
       "    <tr>\n",
       "      <th>28332</th>\n",
       "      <td>AK</td>\n",
       "      <td>58.9051</td>\n",
       "    </tr>\n",
       "    <tr>\n",
       "      <th>28333</th>\n",
       "      <td>NE</td>\n",
       "      <td>42.9461</td>\n",
       "    </tr>\n",
       "    <tr>\n",
       "      <th>28334</th>\n",
       "      <td>OK</td>\n",
       "      <td>36.1334</td>\n",
       "    </tr>\n",
       "    <tr>\n",
       "      <th>28336</th>\n",
       "      <td>OK</td>\n",
       "      <td>35.9113</td>\n",
       "    </tr>\n",
       "    <tr>\n",
       "      <th>28337</th>\n",
       "      <td>NE</td>\n",
       "      <td>42.8307</td>\n",
       "    </tr>\n",
       "  </tbody>\n",
       "</table>\n",
       "<p>27983 rows × 2 columns</p>\n",
       "</div>"
      ],
      "text/plain": [
       "      state_id      lat\n",
       "0           NY  40.6943\n",
       "1           CA  34.1139\n",
       "2           IL  41.8373\n",
       "3           FL  25.7839\n",
       "4           TX  32.7936\n",
       "...        ...      ...\n",
       "28332       AK  58.9051\n",
       "28333       NE  42.9461\n",
       "28334       OK  36.1334\n",
       "28336       OK  35.9113\n",
       "28337       NE  42.8307\n",
       "\n",
       "[27983 rows x 2 columns]"
      ]
     },
     "execution_count": 3,
     "metadata": {},
     "output_type": "execute_result"
    }
   ],
   "source": [
    "a=pd.read_excel('uscities.xlsx')\n",
    "a=a[['state_id','lat']]\n",
    "a=a.drop_duplicates()\n",
    "a"
   ]
  },
  {
   "cell_type": "code",
   "execution_count": 4,
   "id": "cdf80048",
   "metadata": {},
   "outputs": [],
   "source": [
    "df_1=df[df['year']==2021]\n",
    "df_1=df_1.reset_index(drop=True)"
   ]
  },
  {
   "cell_type": "code",
   "execution_count": 5,
   "id": "e0257cad",
   "metadata": {},
   "outputs": [
    {
     "data": {
      "text/plain": [
       "52"
      ]
     },
     "execution_count": 5,
     "metadata": {},
     "output_type": "execute_result"
    }
   ],
   "source": [
    "df2=pd.DataFrame(a.groupby('state_id')['lat'].mean())\n",
    "len(df2)"
   ]
  },
  {
   "cell_type": "code",
   "execution_count": 6,
   "id": "df8c99f5",
   "metadata": {},
   "outputs": [
    {
     "data": {
      "text/html": [
       "<div>\n",
       "<style scoped>\n",
       "    .dataframe tbody tr th:only-of-type {\n",
       "        vertical-align: middle;\n",
       "    }\n",
       "\n",
       "    .dataframe tbody tr th {\n",
       "        vertical-align: top;\n",
       "    }\n",
       "\n",
       "    .dataframe thead th {\n",
       "        text-align: right;\n",
       "    }\n",
       "</style>\n",
       "<table border=\"1\" class=\"dataframe\">\n",
       "  <thead>\n",
       "    <tr style=\"text-align: right;\">\n",
       "      <th></th>\n",
       "      <th>state</th>\n",
       "      <th>year</th>\n",
       "      <th>month</th>\n",
       "      <th>actual</th>\n",
       "      <th>Viewing Date</th>\n",
       "      <th>Elevation</th>\n",
       "      <th>lat</th>\n",
       "    </tr>\n",
       "  </thead>\n",
       "  <tbody>\n",
       "    <tr>\n",
       "      <th>0</th>\n",
       "      <td>AR</td>\n",
       "      <td>2021</td>\n",
       "      <td>2021/3/20</td>\n",
       "      <td>3/20</td>\n",
       "      <td>79</td>\n",
       "      <td>198</td>\n",
       "      <td>35.073337</td>\n",
       "    </tr>\n",
       "    <tr>\n",
       "      <th>1</th>\n",
       "      <td>AZ</td>\n",
       "      <td>2021</td>\n",
       "      <td>2021/3/20</td>\n",
       "      <td>3/20</td>\n",
       "      <td>79</td>\n",
       "      <td>1251</td>\n",
       "      <td>33.876504</td>\n",
       "    </tr>\n",
       "    <tr>\n",
       "      <th>2</th>\n",
       "      <td>CA</td>\n",
       "      <td>2021</td>\n",
       "      <td>2021/3/14</td>\n",
       "      <td>3/14</td>\n",
       "      <td>73</td>\n",
       "      <td>885</td>\n",
       "      <td>36.904392</td>\n",
       "    </tr>\n",
       "    <tr>\n",
       "      <th>3</th>\n",
       "      <td>CO</td>\n",
       "      <td>2021</td>\n",
       "      <td>2021/3/06</td>\n",
       "      <td>3/06</td>\n",
       "      <td>65</td>\n",
       "      <td>2074</td>\n",
       "      <td>39.180920</td>\n",
       "    </tr>\n",
       "    <tr>\n",
       "      <th>4</th>\n",
       "      <td>CT</td>\n",
       "      <td>2021</td>\n",
       "      <td>2021/3/30</td>\n",
       "      <td>3/30</td>\n",
       "      <td>89</td>\n",
       "      <td>153</td>\n",
       "      <td>41.564631</td>\n",
       "    </tr>\n",
       "  </tbody>\n",
       "</table>\n",
       "</div>"
      ],
      "text/plain": [
       "  state  year      month actual  Viewing Date  Elevation        lat\n",
       "0    AR  2021  2021/3/20   3/20            79        198  35.073337\n",
       "1    AZ  2021  2021/3/20   3/20            79       1251  33.876504\n",
       "2    CA  2021  2021/3/14   3/14            73        885  36.904392\n",
       "3    CO  2021  2021/3/06   3/06            65       2074  39.180920\n",
       "4    CT  2021  2021/3/30   3/30            89        153  41.564631"
      ]
     },
     "execution_count": 6,
     "metadata": {},
     "output_type": "execute_result"
    }
   ],
   "source": [
    "b=pd.merge(df_1,df2,left_on='state',right_on='state_id',how='inner')\n",
    "b.head(5)"
   ]
  },
  {
   "cell_type": "code",
   "execution_count": 7,
   "id": "c5001c13",
   "metadata": {},
   "outputs": [],
   "source": [
    "from sklearn import linear_model\n",
    "import matplotlib.pyplot as plt"
   ]
  },
  {
   "cell_type": "code",
   "execution_count": 8,
   "id": "45c54874",
   "metadata": {},
   "outputs": [],
   "source": [
    "from math import sqrt\n",
    "from sklearn.metrics import mean_squared_error"
   ]
  },
  {
   "cell_type": "code",
   "execution_count": 9,
   "id": "2b198509",
   "metadata": {},
   "outputs": [
    {
     "data": {
      "text/plain": [
       "array([51.90504003])"
      ]
     },
     "metadata": {},
     "output_type": "display_data"
    },
    {
     "data": {
      "text/plain": [
       "array([[0.6985303]])"
      ]
     },
     "metadata": {},
     "output_type": "display_data"
    }
   ],
   "source": [
    "model=linear_model.LinearRegression()\n",
    "x=np.array(b['Viewing Date']).reshape(-1, 1)\n",
    "y=np.array(b['lat']).reshape(-1, 1)\n",
    "model.fit(y,x)\n",
    "display(model.intercept_)\n",
    "display(model.coef_)"
   ]
  },
  {
   "cell_type": "code",
   "execution_count": 10,
   "id": "6f09f68e",
   "metadata": {},
   "outputs": [
    {
     "data": {
      "text/plain": [
       "4.705201390959113"
      ]
     },
     "execution_count": 10,
     "metadata": {},
     "output_type": "execute_result"
    }
   ],
   "source": [
    "from sklearn.metrics import mean_absolute_error\n",
    "mean_absolute_error(model.predict(y),x)"
   ]
  },
  {
   "cell_type": "code",
   "execution_count": 11,
   "id": "35e93c18",
   "metadata": {},
   "outputs": [
    {
     "data": {
      "image/png": "[encoded data removed]",
      "text/plain": [
       "<Figure size 432x288 with 1 Axes>"
      ]
     },
     "metadata": {
      "needs_background": "light"
     },
     "output_type": "display_data"
    }
   ],
   "source": [
    "plt.scatter(y,x,c='pink') #画散点图看实际面积和价格的分布情况\n",
    "plt.plot(y,model.predict(y),color='#D9006C') #画拟合面积与价格的线型图\n",
    "plt.grid()\n",
    "plt.xlabel('Latitude(°)')\n",
    "plt.ylabel('Viewing Date(days)')\n",
    "plt.savefig('latitude.png',dpi=300)"
   ]
  },
  {
   "cell_type": "code",
   "execution_count": null,
   "id": "9c259c1b",
   "metadata": {},
   "outputs": [],
   "source": []
  }
 ],
 "metadata": {
  "kernelspec": {
   "display_name": "Python 3",
   "language": "python",
   "name": "python3"
  },
  "language_info": {
   "codemirror_mode": {
    "name": "ipython",
    "version": 3
   },
   "file_extension": ".py",
   "mimetype": "text/x-python",
   "name": "python",
   "nbconvert_exporter": "python",
   "pygments_lexer": "ipython3",
   "version": "3.8.8"
  }
 },
 "nbformat": 4,
 "nbformat_minor": 5
}
